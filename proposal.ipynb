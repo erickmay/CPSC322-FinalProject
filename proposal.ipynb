{
 "cells": [
  {
   "cell_type": "markdown",
   "metadata": {},
   "source": [
    "# Solving Gonzaga Basketball\n",
    "##### Erick May"
   ]
  },
  {
   "cell_type": "markdown",
   "metadata": {},
   "source": [
    "## Dataset Description\n",
    "This dataset comes from a query on sports-reference.com, which allows for the exporting of data in a simple CSV format. It contains data about every single Gonzaga men's basketball game starting with the 2010-11 season (as far back as the website allows you to go querying individual regular season games), for a total of 430 games.  \n",
    "It has the following attributes:\n",
    "- Id (row number)\n",
    "- Date\n",
    "- School (always \"Gonzaga\")\n",
    "- Loc (N for neutral site, @ for away, and blank for home)\n",
    "- Opp (name of opponent)\n",
    "- Result (ex. \"W 88-84\")\n",
    "- MP (Minutes Played, (number of minutes the game lasted * 5) since five players are on the floor at a time for one team, will always be 200 unless the game went into overtime)\n",
    "- Tm_FG/Opp_FG (number of field goals made by Gonzaga and the opponent, respectively)\n",
    "- Tm_FGA/Opp_FGA (number of field goals attempted by Gonzaga and the opponent, respectively)\n",
    "- Tm_FG%/Opp_FG% (successful field goal percentage for Gonzaga and opponent, respectively)\n",
    "- Tm_2P/Opp_2P (number of two-pointers made by Gonzaga and the opponent, respectively)\n",
    "- Tm_2PA/Opp_2PA (number of two-pointers attempted by Gonzaga and the opponent, respectively)\n",
    "- Tm_2P%/Opp_2P% (successful two-point percentage for Gonzaga and opponent, respectively)\n",
    "- Tm_3P/Opp_3P (number of three-pointers made by Gonzaga and the opponent, respectively)\n",
    "- Tm_3PA/Opp_3PA (number of three-pointers attempted by Gonzaga and the opponent, respectively)\n",
    "- Tm_3P%/Opp_3P% (successful three-point percentage for Gonzaga and opponent, respectively)\n",
    "- Tm_FT/Opp_FT (number of freethrows made by Gonzaga and the opponent, respectively)\n",
    "- Tm_FTA/Opp_FTA (number of freethrows attempted by Gonzaga and the opponent, respectively)\n",
    "- Tm_FT%/Opp_FT% (successful freethrow percentage for Gonzaga and opponent, respectively)\n",
    "- Tm_PTS/Opp_PTS (number of points scored by Gonzaga and the opponent, respectively)  \n",
    "\n",
    "The \"Result\" attribute will be the class. I'll alter the Result attribute to just be W or L instead of including the score as class labels would then be way too specific (and the number of points each team scored is already in other attributes)."
   ]
  },
  {
   "cell_type": "markdown",
   "metadata": {},
   "source": [
    "## Implementation/Technical Merit\n",
    "I already took it upon myself to do a couple things to prepare the data. There were a few attributes that had no anmes, so I gave them names, and the shooting statistics had the same attribute names for both Gonzaga and the opponent, so I added the \"Tm_\" or \"Opp_\" in front of each one. You'll also notice I removed row 2, as that row, representing the game on Thanksgiving against Portland State, had no data other than the score. As previously mentioned, I'll alter the Result column to just include W or L. I'll also fill blank values of the Loc attribute with H since it being left blank meant it was a home game. Additionally, for classification purposes, I'll throw away the following attributes:\n",
    "- Id (meaningless)\n",
    "- Date (not relevant)\n",
    "- School (not meaningful, always \"Gonzaga\" anyway)\n",
    "- Opp (too specific to be useful in the classification)\n",
    "- MP (200 the vast majority of the time, not enough different values to be useful)\n",
    "This still leaves us with a lot of attributes, but since the percentages are simply calculated by dividing the number of makes by the number of attempts, we can either discard the raw number attributes or discard the percentges and whittle things down considerably."
   ]
  },
  {
   "cell_type": "markdown",
   "metadata": {},
   "source": [
    "## Potential Impact of Results\n",
    "These results could provide insight into Gonzaga's strengths and weaknesses. Do the Zags usually win if they attempt more than a certain threshold of freethrows? What 2-point percentage do opponents have to keep the Zags at to win? How well do slower teams (teams that attempt less shots) do against the Zags? What about faster-paced teams? How many 3-point attempts is too many? Obviously, although college basketball is much more nuanced than a simple threshold of shot attempts or something like that (unfortunately, more advanced analytics are not available here), future opponents of Gonzaga, and Gonzaga themselves, would have an interest in the answers to these questions."
   ]
  }
 ],
 "metadata": {
  "kernelspec": {
   "display_name": "Python 3.9.2 64-bit",
   "language": "python",
   "name": "python3"
  },
  "language_info": {
   "name": "python",
   "version": "3.9.2"
  },
  "orig_nbformat": 4,
  "vscode": {
   "interpreter": {
    "hash": "31f2aee4e71d21fbe5cf8b01ff0e069b9275f58929596ceb00d14d90e3e16cd6"
   }
  }
 },
 "nbformat": 4,
 "nbformat_minor": 2
}
