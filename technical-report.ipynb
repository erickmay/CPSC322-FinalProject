{
 "cells": [
  {
   "cell_type": "markdown",
   "metadata": {},
   "source": [
    "# Solving Gonzaga Basketball\n",
    "By Erick May  \n",
    "\n",
    "CPSC 322, Fall 2022"
   ]
  },
  {
   "cell_type": "markdown",
   "metadata": {},
   "source": [
    "## Introduction\n",
    "The dataset I am using comes from sports-reference.com, and contains basic information and statistics for each Gonzaga men's basketball game from 2010-11 to the present. I will be using the data about each game to predict what the result of the game would be.\n",
    "### FINDINGS HERE"
   ]
  },
  {
   "cell_type": "code",
   "execution_count": 1,
   "metadata": {},
   "outputs": [],
   "source": [
    "import importlib\n",
    "import tabulate\n",
    "import matplotlib.pyplot as plt\n",
    "import copy\n",
    "\n",
    "import mysklearn.myutils\n",
    "importlib.reload(mysklearn.myutils)\n",
    "import mysklearn.myutils as myutils\n",
    "\n",
    "import mysklearn.myclassifiers\n",
    "importlib.reload(mysklearn.myclassifiers)\n",
    "from mysklearn.myclassifiers import MyKNeighborsClassifier, MyDummyClassifier, MyNaiveBayesClassifier, MyDecisionTreeClassifier\n",
    "\n",
    "import mysklearn.myevaluation\n",
    "importlib.reload(mysklearn.myevaluation)\n",
    "import mysklearn.myevaluation as myevaluation\n"
   ]
  },
  {
   "cell_type": "markdown",
   "metadata": {},
   "source": [
    "## Data Analysis\n",
    "As the website only has individual game data going back to the 2010-11 season, the dataset only contains 430 games. Some attributes that are part of the dataset, but will not be part of our analysis, include an ID, date, school name (always \"Gonzaga\"), opponent name, and total minutes played by Gonzaga, which will almost always be 200 since 5 players are on the floor at a time for the 40 minutes of the game (or more if it goes into overtime). The attributes of interest for us will be the location of the game (Home, Neutral, or Away) and shooting statistics for each team, which includes the raw numbers (Makes and Attempts) along with percentages for field goals, 2-pointers, 3-pointers, and freethrows. The class to predict will be the result of the game, with 4 labels: L, CloseW, ComfortableW, and BlowoutW. Gonzaga wins so often that wins had to be split up into close wins (10 points or less), comfortable wins (11-19 points) and blowouts (20+ points) to give the class labels a somewhat more even distribution (although far from perfect, as shown below)."
   ]
  },
  {
   "cell_type": "code",
   "execution_count": 2,
   "metadata": {},
   "outputs": [
    {
     "data": {
      "image/png": "[encoded data removed]",
      "text/plain": [
       "<Figure size 432x288 with 1 Axes>"
      ]
     },
     "metadata": {},
     "output_type": "display_data"
    }
   ],
   "source": [
    "zag_table = myutils.read_table(\"input_data/gonzaga_games_2010-present.csv\")\n",
    "zag_header = zag_table.pop(0)\n",
    "X = []\n",
    "zag_copy = copy.deepcopy(zag_table)\n",
    "X_numeric = [[row[3], row[7], row[8], row[9], row[10], row[11], row[12], row[13], row[14], row[15], row[16], row[17], row[18], row[20], row[21], row[22], row[23], row[24], row[25], row[26], row[27], row[28], row[29], row[30], row[31]] for row in zag_copy]\n",
    "for i in range(1, len(X_numeric[0])):\n",
    "    col = myutils.get_col(X_numeric, i)\n",
    "    col_norm, min_val, max_val = myutils.normalize(col)\n",
    "    for j in range(0, len(X_numeric)):\n",
    "        X_numeric[j][i] = col_norm[j]\n",
    "y = []\n",
    "for row in zag_table:\n",
    "    row[5] = myutils.determine_class_label(row[19], row[32])\n",
    "    row[3] = myutils.determine_loc(row[3])\n",
    "    row[7], row[8], row[9] = myutils.discretize_fgs(row[7], row[8], row[9])\n",
    "    row[10], row[11], row[12] = myutils.discretize_twos(row[10], row[11], row[12])\n",
    "    row[13], row[14], row[15] = myutils.discretize_threes(row[13], row[14], row[15])\n",
    "    row[16], row[17], row[18] = myutils.discretize_fts(row[16], row[17], row[18])\n",
    "    row[20], row[21], row[22] = myutils.discretize_fgs(row[20], row[21], row[22])\n",
    "    row[23], row[24], row[25] = myutils.discretize_twos(row[23], row[24], row[25])\n",
    "    row[26], row[27], row[28] = myutils.discretize_threes(row[26], row[27], row[28])\n",
    "    row[29], row[30], row[31] = myutils.discretize_fts(row[29], row[30], row[31])\n",
    "    X.append([row[3], row[7], row[8], row[9], row[10], row[11], row[12], row[13], row[14], row[15], row[16], row[17], row[18], row[20], row[21], row[22], row[23], row[24], row[25], row[26], row[27], row[28], row[29], row[30], row[31]])\n",
    "    y.append(row[5])\n",
    "\n",
    "X_header = [zag_header[3], zag_header[7], zag_header[8], zag_header[9], zag_header[10], zag_header[11], zag_header[12], zag_header[13], zag_header[14], zag_header[15], zag_header[16], zag_header[17], zag_header[18], zag_header[20], zag_header[21], zag_header[22], zag_header[23], zag_header[24], zag_header[25], zag_header[26], zag_header[27], zag_header[28], zag_header[29], zag_header[30], zag_header[31]]\n",
    "class_label = zag_header[5]\n",
    "classes, class_counts = myutils.find_col_frequencies(y)\n",
    "plt.figure()\n",
    "plt.title(\"Class Label Distribution\")\n",
    "plt.pie(class_counts, labels=classes, autopct=\"%1.1f%%\")\n",
    "plt.show()"
   ]
  },
  {
   "cell_type": "markdown",
   "metadata": {},
   "source": [
    "Figure 1 shows the distribution of the class labels I concocted.\n",
    "### MORE SUMMARY STATS AND GRAPHS HERE"
   ]
  },
  {
   "cell_type": "markdown",
   "metadata": {},
   "source": [
    "## Classification Results\n",
    "### CLASSIFICATION DESCRIPTION HERE"
   ]
  },
  {
   "cell_type": "code",
   "execution_count": 3,
   "metadata": {},
   "outputs": [],
   "source": [
    "train_test_strat_indices = myevaluation.stratified_kfold_split(X, y, 10, 0)"
   ]
  },
  {
   "cell_type": "code",
   "execution_count": 4,
   "metadata": {},
   "outputs": [],
   "source": [
    "nb_accuracy_sum, nb_precision_sum, nb_recall_sum, nb_f1_sum = 0, 0, 0, 0\n",
    "nb_matrix_sum = [[0, 0, 0, 0], [0, 0, 0, 0], [0, 0, 0, 0], [0, 0, 0, 0]]\n",
    "knn_accuracy_sum, knn_precision_sum, knn_recall_sum, knn_f1_sum = 0, 0, 0, 0\n",
    "knn_matrix_sum = [[0, 0, 0, 0], [0, 0, 0, 0], [0, 0, 0, 0], [0, 0, 0, 0]]\n",
    "dumb_accuracy_sum, dumb_precision_sum, dumb_recall_sum, dumb_f1_sum = 0, 0, 0, 0\n",
    "dumb_matrix_sum = [[0, 0, 0, 0], [0, 0, 0, 0], [0, 0, 0, 0], [0, 0, 0, 0]]\n",
    "tree_accuracy_sum, tree_precision_sum, tree_recall_sum, tree_f1_sum = 0, 0, 0, 0\n",
    "tree_matrix_sum = [[0, 0, 0, 0], [0, 0, 0, 0], [0, 0, 0, 0], [0, 0, 0, 0]]\n",
    "\n",
    "for i in range (0, 10):\n",
    "    X_train = [X[index] for index in train_test_strat_indices[i][0]]\n",
    "    y_train = [y[index] for index in train_test_strat_indices[i][0]]\n",
    "    X_test = [X[index] for index in train_test_strat_indices[i][1]]\n",
    "    y_test = [y[index] for index in train_test_strat_indices[i][1]]\n",
    "    X_train_numeric = [X_numeric[index] for index in train_test_strat_indices[i][0]]\n",
    "    X_test_numeric = [X_numeric[index] for index in train_test_strat_indices[i][1]]\n",
    "\n",
    "    nb_clf = MyNaiveBayesClassifier()\n",
    "    nb_clf.fit(X_train, y_train)\n",
    "    y_pred = nb_clf.predict(X_test)\n",
    "    nb_accuracy_sum += myevaluation.accuracy_score(y_test, y_pred)\n",
    "    nb_precision_sum += myevaluation.binary_precision_score(y_test, y_pred, [\"L\", \"CloseW\", \"ComfortableW\", \"BlowoutW\"], \"L\")\n",
    "    nb_recall_sum += myevaluation.binary_recall_score(y_test, y_pred, [\"L\", \"CloseW\", \"ComfortableW\", \"BlowoutW\"], \"L\")\n",
    "    nb_f1_sum += myevaluation.binary_f1_score(y_test, y_pred, [\"L\", \"CloseW\", \"ComfortableW\", \"BlowoutW\"], \"L\")\n",
    "    confusing_matrix = myevaluation.confusion_matrix(y_test, y_pred, [\"L\", \"CloseW\", \"ComfortableW\", \"BlowoutW\"])\n",
    "    for i in range(0, len(confusing_matrix)):\n",
    "        for j in range(0, len(confusing_matrix[i])):\n",
    "            nb_matrix_sum[i][j] += confusing_matrix[i][j]\n",
    "\n",
    "    knn_clf = MyKNeighborsClassifier()\n",
    "    knn_clf.fit(X_train_numeric, y_train)\n",
    "    y_pred = knn_clf.predict(X_test_numeric)\n",
    "    knn_accuracy_sum += myevaluation.accuracy_score(y_test, y_pred)\n",
    "    knn_precision_sum += myevaluation.binary_precision_score(y_test, y_pred, [\"L\", \"CloseW\", \"ComfortableW\", \"BlowoutW\"], \"L\")\n",
    "    knn_recall_sum += myevaluation.binary_recall_score(y_test, y_pred, [\"L\", \"CloseW\", \"ComfortableW\", \"BlowoutW\"], \"L\")\n",
    "    knn_f1_sum += myevaluation.binary_f1_score(y_test, y_pred, [\"L\", \"CloseW\", \"ComfortableW\", \"BlowoutW\"], \"L\")\n",
    "    confusing_matrix = myevaluation.confusion_matrix(y_test, y_pred, [\"L\", \"CloseW\", \"ComfortableW\", \"BlowoutW\"])\n",
    "    for i in range(0, len(confusing_matrix)):\n",
    "        for j in range(0, len(confusing_matrix[i])):\n",
    "            knn_matrix_sum[i][j] += confusing_matrix[i][j]\n",
    "\n",
    "    dumb_clf = MyDummyClassifier()\n",
    "    dumb_clf.fit(X_train, y_train)\n",
    "    y_pred = dumb_clf.predict(X_test)\n",
    "    dumb_accuracy_sum += myevaluation.accuracy_score(y_test, y_pred)\n",
    "    dumb_precision_sum += myevaluation.binary_precision_score(y_test, y_pred, [\"L\", \"CloseW\", \"ComfortableW\", \"BlowoutW\"], \"L\")\n",
    "    dumb_recall_sum += myevaluation.binary_recall_score(y_test, y_pred, [\"L\", \"CloseW\", \"ComfortableW\", \"BlowoutW\"], \"L\")\n",
    "    dumb_f1_sum += myevaluation.binary_f1_score(y_test, y_pred, [\"L\", \"CloseW\", \"ComfortableW\", \"BlowoutW\"], \"L\")\n",
    "    confusing_matrix = myevaluation.confusion_matrix(y_test, y_pred, [\"L\", \"CloseW\", \"ComfortableW\", \"BlowoutW\"])\n",
    "    for i in range(0, len(confusing_matrix)):\n",
    "        for j in range(0, len(confusing_matrix[i])):\n",
    "            dumb_matrix_sum[i][j] += confusing_matrix[i][j]\n",
    "\n",
    "    tree_clf = MyDecisionTreeClassifier()\n",
    "    tree_clf.fit(X_train, y_train)\n",
    "    y_pred = tree_clf.predict(X_test)\n",
    "    tree_accuracy_sum += myevaluation.accuracy_score(y_test, y_pred)\n",
    "    tree_precision_sum += myevaluation.binary_precision_score(y_test, y_pred, [\"L\", \"CloseW\", \"ComfortableW\", \"BlowoutW\"], \"L\")\n",
    "    tree_recall_sum += myevaluation.binary_recall_score(y_test, y_pred, [\"L\", \"CloseW\", \"ComfortableW\", \"BlowoutW\"], \"L\")\n",
    "    tree_f1_sum += myevaluation.binary_f1_score(y_test, y_pred, [\"L\", \"CloseW\", \"ComfortableW\", \"BlowoutW\"], \"L\")\n",
    "    confusing_matrix = myevaluation.confusion_matrix(y_test, y_pred, [\"L\", \"CloseW\", \"ComfortableW\", \"BlowoutW\"])\n",
    "    for i in range(0, len(confusing_matrix)):\n",
    "        for j in range(0, len(confusing_matrix[i])):\n",
    "            tree_matrix_sum[i][j] += confusing_matrix[i][j]\n"
   ]
  },
  {
   "cell_type": "code",
   "execution_count": 5,
   "metadata": {},
   "outputs": [
    {
     "name": "stdout",
     "output_type": "stream",
     "text": [
      "Naive-Bayes Metrics (Averages for 10-Fold Cross Validation)\n",
      "-----------------------------------------------------------\n",
      "accuracy = 0.5929572035074021, error rate = 0.4070427964925979\n",
      "precision = 0.7966666666666666, recall = 0.6300000000000001\n",
      "f1 score: 0.6937590187590188\n",
      "confusion matrix:\n",
      "--  --  --  ---\n",
      "32  18   7    1\n",
      " 9  52  27    5\n",
      " 2  30  45   33\n",
      " 0   6  37  126\n",
      "--  --  --  ---\n"
     ]
    }
   ],
   "source": [
    "nb_accuracy = nb_accuracy_sum / 10\n",
    "nb_error = 1 - nb_accuracy\n",
    "nb_precision = nb_precision_sum / 10\n",
    "nb_recall = nb_recall_sum / 10\n",
    "nb_f1 = nb_f1_sum / 10\n",
    "print(\"Naive-Bayes Metrics (Averages for 10-Fold Cross Validation)\")\n",
    "print(\"-----------------------------------------------------------\")\n",
    "print(\"accuracy = \" + str(nb_accuracy) + \", error rate = \" + str(nb_error))\n",
    "print(\"precision = \" + str(nb_precision) + \", recall = \" + str(nb_recall))\n",
    "print(\"f1 score: \" + str(nb_f1))\n",
    "print(\"confusion matrix:\")\n",
    "print(tabulate.tabulate(nb_matrix_sum))"
   ]
  },
  {
   "cell_type": "code",
   "execution_count": 6,
   "metadata": {},
   "outputs": [
    {
     "name": "stdout",
     "output_type": "stream",
     "text": [
      "kNN Metrics (Averages for 10-Fold Cross Validation)\n",
      "---------------------------------------------------\n",
      "accuracy = 0.5612096780134216, error rate = 0.4387903219865784\n",
      "precision = 0.7464285714285714, recall = 0.5549999999999999\n",
      "f1 score: 0.6266056166056165\n",
      "confusion matrix:\n",
      "--  --  --  ---\n",
      "26  20  11    1\n",
      " 9  39  39    6\n",
      " 1  27  53   29\n",
      " 0  10  36  123\n",
      "--  --  --  ---\n"
     ]
    }
   ],
   "source": [
    "knn_accuracy = knn_accuracy_sum / 10\n",
    "knn_error = 1 - knn_accuracy\n",
    "knn_precision = knn_precision_sum / 10\n",
    "knn_recall = knn_recall_sum / 10\n",
    "knn_f1 = knn_f1_sum / 10\n",
    "print(\"kNN Metrics (Averages for 10-Fold Cross Validation)\")\n",
    "print(\"---------------------------------------------------\")\n",
    "print(\"accuracy = \" + str(knn_accuracy) + \", error rate = \" + str(knn_error))\n",
    "print(\"precision = \" + str(knn_precision) + \", recall = \" + str(knn_recall))\n",
    "print(\"f1 score: \" + str(knn_f1))\n",
    "print(\"confusion matrix:\")\n",
    "print(tabulate.tabulate(knn_matrix_sum))"
   ]
  },
  {
   "cell_type": "code",
   "execution_count": 7,
   "metadata": {},
   "outputs": [
    {
     "name": "stdout",
     "output_type": "stream",
     "text": [
      "Dummy Metrics (Averages for 10-Fold Cross Validation)\n",
      "-----------------------------------------------------------\n",
      "accuracy = 0.39308409023383495, error rate = 0.606915909766165\n",
      "precision = 0.0, recall = 0.0\n",
      "f1 score: 0.0\n",
      "confusion matrix:\n",
      "-  -  -  ---\n",
      "0  0  0   58\n",
      "0  0  0   93\n",
      "0  0  0  110\n",
      "0  0  0  169\n",
      "-  -  -  ---\n"
     ]
    }
   ],
   "source": [
    "dumb_accuracy = dumb_accuracy_sum / 10\n",
    "dumb_error = 1 - dumb_accuracy\n",
    "dumb_precision = dumb_precision_sum / 10\n",
    "dumb_recall = dumb_recall_sum / 10\n",
    "dumb_f1 = dumb_f1_sum / 10\n",
    "print(\"Dummy Metrics (Averages for 10-Fold Cross Validation)\")\n",
    "print(\"-----------------------------------------------------------\")\n",
    "print(\"accuracy = \" + str(dumb_accuracy) + \", error rate = \" + str(dumb_error))\n",
    "print(\"precision = \" + str(dumb_precision) + \", recall = \" + str(dumb_recall))\n",
    "print(\"f1 score: \" + str(dumb_f1))\n",
    "print(\"confusion matrix:\")\n",
    "print(tabulate.tabulate(dumb_matrix_sum))"
   ]
  },
  {
   "cell_type": "code",
   "execution_count": 8,
   "metadata": {},
   "outputs": [
    {
     "name": "stdout",
     "output_type": "stream",
     "text": [
      "Decision Tree Metrics (Averages for 10-Fold Cross Validation)\n",
      "-----------------------------------------------------------\n",
      "accuracy = 0.4654978600525963, error rate = 0.5345021399474037\n",
      "precision = 0.5133333333333333, recall = 0.28\n",
      "f1 score: 0.33002164502164505\n",
      "confusion matrix:\n",
      "--  --  --  ---\n",
      "15  38   3    2\n",
      "16  43  18   16\n",
      " 9  37  27   37\n",
      " 6  13  35  115\n",
      "--  --  --  ---\n",
      "IF Tm_FG == Average AND Opp_FG == Average AND Tm_3P == Average AND Tm_FG% == Average AND Tm_FTA == Average THEN Result == ComfortableW\n",
      "IF Tm_FG == Average AND Opp_FG == Average AND Tm_3P == Average AND Tm_FG% == Average AND Tm_FTA == High AND Opp_3P == Average THEN Result == ComfortableW\n",
      "IF Tm_FG == Average AND Opp_FG == Average AND Tm_3P == Average AND Tm_FG% == Average AND Tm_FTA == High AND Opp_3P == High THEN Result == CloseW\n",
      "IF Tm_FG == Average AND Opp_FG == Average AND Tm_3P == Average AND Tm_FG% == Average AND Tm_FTA == High AND Opp_3P == Low THEN Result == BlowoutW\n",
      "IF Tm_FG == Average AND Opp_FG == Average AND Tm_3P == Average AND Tm_FG% == Average AND Tm_FTA == Low THEN Result == L\n",
      "IF Tm_FG == Average AND Opp_FG == Average AND Tm_3P == Average AND Tm_FG% == High THEN Result == ComfortableW\n",
      "IF Tm_FG == Average AND Opp_FG == Average AND Tm_3P == Average AND Tm_FG% == Low AND Opp_3P == Average AND Opp_FT == Average THEN Result == CloseW\n",
      "IF Tm_FG == Average AND Opp_FG == Average AND Tm_3P == Average AND Tm_FG% == Low AND Opp_3P == Average AND Opp_FT == High THEN Result == CloseW\n",
      "IF Tm_FG == Average AND Opp_FG == Average AND Tm_3P == Average AND Tm_FG% == Low AND Opp_3P == Average AND Opp_FT == Low THEN Result == L\n",
      "IF Tm_FG == Average AND Opp_FG == Average AND Tm_3P == Average AND Tm_FG% == Low AND Opp_3P == High THEN Result == L\n",
      "IF Tm_FG == Average AND Opp_FG == Average AND Tm_3P == Average AND Tm_FG% == Low AND Opp_3P == Low AND Tm_FT == Average THEN Result == L\n",
      "IF Tm_FG == Average AND Opp_FG == Average AND Tm_3P == Average AND Tm_FG% == Low AND Opp_3P == Low AND Tm_FT == High THEN Result == ComfortableW\n",
      "IF Tm_FG == Average AND Opp_FG == Average AND Tm_3P == Average AND Tm_FG% == Low AND Opp_3P == Low AND Tm_FT == Low THEN Result == CloseW\n",
      "IF Tm_FG == Average AND Opp_FG == Average AND Tm_3P == High AND Loc == A THEN Result == BlowoutW\n",
      "IF Tm_FG == Average AND Opp_FG == Average AND Tm_3P == High AND Loc == H THEN Result == BlowoutW\n",
      "IF Tm_FG == Average AND Opp_FG == Average AND Tm_3P == High AND Loc == N AND Tm_FG% == Average THEN Result == CloseW\n",
      "IF Tm_FG == Average AND Opp_FG == Average AND Tm_3P == High AND Loc == N AND Tm_FG% == High THEN Result == BlowoutW\n",
      "IF Tm_FG == Average AND Opp_FG == Average AND Tm_3P == High AND Loc == N AND Tm_FG% == Low THEN Result == CloseW\n",
      "IF Tm_FG == Average AND Opp_FG == Average AND Tm_3P == Low THEN Result == CloseW\n",
      "IF Tm_FG == Average AND Opp_FG == High THEN Result == CloseW\n",
      "IF Tm_FG == Average AND Opp_FG == Low AND Opp_FTA == Average AND Loc == A AND Opp_3P == Average AND Tm_FTA == Average AND Tm_3P == Average THEN Result == ComfortableW\n",
      "IF Tm_FG == Average AND Opp_FG == Low AND Opp_FTA == Average AND Loc == A AND Opp_3P == Average AND Tm_FTA == Average AND Tm_3P == High THEN Result == BlowoutW\n",
      "IF Tm_FG == Average AND Opp_FG == Low AND Opp_FTA == Average AND Loc == A AND Opp_3P == Average AND Tm_FTA == Average AND Tm_3P == Low THEN Result == BlowoutW\n",
      "IF Tm_FG == Average AND Opp_FG == Low AND Opp_FTA == Average AND Loc == A AND Opp_3P == Average AND Tm_FTA == High THEN Result == BlowoutW\n",
      "IF Tm_FG == Average AND Opp_FG == Low AND Opp_FTA == Average AND Loc == A AND Opp_3P == Average AND Tm_FTA == Low THEN Result == ComfortableW\n",
      "IF Tm_FG == Average AND Opp_FG == Low AND Opp_FTA == Average AND Loc == A AND Opp_3P == High THEN Result == CloseW\n",
      "IF Tm_FG == Average AND Opp_FG == Low AND Opp_FTA == Average AND Loc == A AND Opp_3P == Low AND Tm_FG% == Average THEN Result == ComfortableW\n",
      "IF Tm_FG == Average AND Opp_FG == Low AND Opp_FTA == Average AND Loc == A AND Opp_3P == Low AND Tm_FG% == High THEN Result == CloseW\n",
      "IF Tm_FG == Average AND Opp_FG == Low AND Opp_FTA == Average AND Loc == A AND Opp_3P == Low AND Tm_FG% == Low AND Tm_FT == Average THEN Result == BlowoutW\n",
      "IF Tm_FG == Average AND Opp_FG == Low AND Opp_FTA == Average AND Loc == A AND Opp_3P == Low AND Tm_FG% == Low AND Tm_FT == High THEN Result == ComfortableW\n",
      "IF Tm_FG == Average AND Opp_FG == Low AND Opp_FTA == Average AND Loc == A AND Opp_3P == Low AND Tm_FG% == Low AND Tm_FT == Low THEN Result == ComfortableW\n",
      "IF Tm_FG == Average AND Opp_FG == Low AND Opp_FTA == Average AND Loc == H AND Opp_3P% == Average AND Tm_FT% == Average THEN Result == BlowoutW\n",
      "IF Tm_FG == Average AND Opp_FG == Low AND Opp_FTA == Average AND Loc == H AND Opp_3P% == Average AND Tm_FT% == High THEN Result == ComfortableW\n",
      "IF Tm_FG == Average AND Opp_FG == Low AND Opp_FTA == Average AND Loc == H AND Opp_3P% == Average AND Tm_FT% == Low THEN Result == BlowoutW\n",
      "IF Tm_FG == Average AND Opp_FG == Low AND Opp_FTA == Average AND Loc == H AND Opp_3P% == High AND Opp_3PA == Average THEN Result == ComfortableW\n",
      "IF Tm_FG == Average AND Opp_FG == Low AND Opp_FTA == Average AND Loc == H AND Opp_3P% == High AND Opp_3PA == High THEN Result == BlowoutW\n",
      "IF Tm_FG == Average AND Opp_FG == Low AND Opp_FTA == Average AND Loc == H AND Opp_3P% == High AND Opp_3PA == Low THEN Result == BlowoutW\n",
      "IF Tm_FG == Average AND Opp_FG == Low AND Opp_FTA == Average AND Loc == H AND Opp_3P% == Low AND Opp_FT% == Average AND Tm_FT% == Average THEN Result == BlowoutW\n",
      "IF Tm_FG == Average AND Opp_FG == Low AND Opp_FTA == Average AND Loc == H AND Opp_3P% == Low AND Opp_FT% == Average AND Tm_FT% == High THEN Result == BlowoutW\n",
      "IF Tm_FG == Average AND Opp_FG == Low AND Opp_FTA == Average AND Loc == H AND Opp_3P% == Low AND Opp_FT% == Average AND Tm_FT% == Low THEN Result == BlowoutW\n",
      "IF Tm_FG == Average AND Opp_FG == Low AND Opp_FTA == Average AND Loc == H AND Opp_3P% == Low AND Opp_FT% == High THEN Result == CloseW\n",
      "IF Tm_FG == Average AND Opp_FG == Low AND Opp_FTA == Average AND Loc == H AND Opp_3P% == Low AND Opp_FT% == Low THEN Result == BlowoutW\n",
      "IF Tm_FG == Average AND Opp_FG == Low AND Opp_FTA == Average AND Loc == N AND Opp_FT% == Average AND Tm_2P% == Average AND Opp_3P% == Average THEN Result == BlowoutW\n",
      "IF Tm_FG == Average AND Opp_FG == Low AND Opp_FTA == Average AND Loc == N AND Opp_FT% == Average AND Tm_2P% == Average AND Opp_3P% == High THEN Result == ComfortableW\n",
      "IF Tm_FG == Average AND Opp_FG == Low AND Opp_FTA == Average AND Loc == N AND Opp_FT% == Average AND Tm_2P% == Average AND Opp_3P% == Low THEN Result == ComfortableW\n",
      "IF Tm_FG == Average AND Opp_FG == Low AND Opp_FTA == Average AND Loc == N AND Opp_FT% == Average AND Tm_2P% == High AND Tm_3P% == Average THEN Result == BlowoutW\n",
      "IF Tm_FG == Average AND Opp_FG == Low AND Opp_FTA == Average AND Loc == N AND Opp_FT% == Average AND Tm_2P% == High AND Tm_3P% == High THEN Result == BlowoutW\n",
      "IF Tm_FG == Average AND Opp_FG == Low AND Opp_FTA == Average AND Loc == N AND Opp_FT% == Average AND Tm_2P% == High AND Tm_3P% == Low THEN Result == CloseW\n",
      "IF Tm_FG == Average AND Opp_FG == Low AND Opp_FTA == Average AND Loc == N AND Opp_FT% == Average AND Tm_2P% == Low THEN Result == CloseW\n",
      "IF Tm_FG == Average AND Opp_FG == Low AND Opp_FTA == Average AND Loc == N AND Opp_FT% == High THEN Result == ComfortableW\n",
      "IF Tm_FG == Average AND Opp_FG == Low AND Opp_FTA == Average AND Loc == N AND Opp_FT% == Low THEN Result == BlowoutW\n",
      "IF Tm_FG == Average AND Opp_FG == Low AND Opp_FTA == High AND Opp_3P == Average AND Tm_3PA == Average THEN Result == CloseW\n",
      "IF Tm_FG == Average AND Opp_FG == Low AND Opp_FTA == High AND Opp_3P == Average AND Tm_3PA == High THEN Result == ComfortableW\n",
      "IF Tm_FG == Average AND Opp_FG == Low AND Opp_FTA == High AND Opp_3P == Average AND Tm_3PA == Low THEN Result == L\n",
      "IF Tm_FG == Average AND Opp_FG == Low AND Opp_FTA == High AND Opp_3P == High THEN Result == CloseW\n",
      "IF Tm_FG == Average AND Opp_FG == Low AND Opp_FTA == High AND Opp_3P == Low AND Opp_2PA == Average THEN Result == BlowoutW\n",
      "IF Tm_FG == Average AND Opp_FG == Low AND Opp_FTA == High AND Opp_3P == Low AND Opp_2PA == High THEN Result == ComfortableW\n",
      "IF Tm_FG == Average AND Opp_FG == Low AND Opp_FTA == High AND Opp_3P == Low AND Opp_2PA == Low THEN Result == BlowoutW\n",
      "IF Tm_FG == Average AND Opp_FG == Low AND Opp_FTA == Low AND Tm_3P == Average AND Opp_FT% == Average THEN Result == BlowoutW\n",
      "IF Tm_FG == Average AND Opp_FG == Low AND Opp_FTA == Low AND Tm_3P == Average AND Opp_FT% == High AND Tm_FG% == Average THEN Result == BlowoutW\n",
      "IF Tm_FG == Average AND Opp_FG == Low AND Opp_FTA == Low AND Tm_3P == Average AND Opp_FT% == High AND Tm_FG% == High THEN Result == BlowoutW\n",
      "IF Tm_FG == Average AND Opp_FG == Low AND Opp_FTA == Low AND Tm_3P == Average AND Opp_FT% == High AND Tm_FG% == Low THEN Result == CloseW\n",
      "IF Tm_FG == Average AND Opp_FG == Low AND Opp_FTA == Low AND Tm_3P == Average AND Opp_FT% == Low AND Tm_2P% == Average THEN Result == BlowoutW\n",
      "IF Tm_FG == Average AND Opp_FG == Low AND Opp_FTA == Low AND Tm_3P == Average AND Opp_FT% == Low AND Tm_2P% == High THEN Result == BlowoutW\n",
      "IF Tm_FG == Average AND Opp_FG == Low AND Opp_FTA == Low AND Tm_3P == Average AND Opp_FT% == Low AND Tm_2P% == Low THEN Result == ComfortableW\n",
      "IF Tm_FG == Average AND Opp_FG == Low AND Opp_FTA == Low AND Tm_3P == High AND Opp_3P == Average THEN Result == BlowoutW\n",
      "IF Tm_FG == Average AND Opp_FG == Low AND Opp_FTA == Low AND Tm_3P == High AND Opp_3P == High THEN Result == ComfortableW\n",
      "IF Tm_FG == Average AND Opp_FG == Low AND Opp_FTA == Low AND Tm_3P == High AND Opp_3P == Low THEN Result == BlowoutW\n",
      "IF Tm_FG == Average AND Opp_FG == Low AND Opp_FTA == Low AND Tm_3P == Low AND Tm_FG% == Average AND Tm_FT% == Average THEN Result == BlowoutW\n",
      "IF Tm_FG == Average AND Opp_FG == Low AND Opp_FTA == Low AND Tm_3P == Low AND Tm_FG% == Average AND Tm_FT% == High AND Loc == A THEN Result == ComfortableW\n",
      "IF Tm_FG == Average AND Opp_FG == Low AND Opp_FTA == Low AND Tm_3P == Low AND Tm_FG% == Average AND Tm_FT% == High AND Loc == H THEN Result == BlowoutW\n",
      "IF Tm_FG == Average AND Opp_FG == Low AND Opp_FTA == Low AND Tm_3P == Low AND Tm_FG% == Average AND Tm_FT% == High AND Loc == N THEN Result == ComfortableW\n",
      "IF Tm_FG == Average AND Opp_FG == Low AND Opp_FTA == Low AND Tm_3P == Low AND Tm_FG% == Average AND Tm_FT% == Low THEN Result == ComfortableW\n",
      "IF Tm_FG == Average AND Opp_FG == Low AND Opp_FTA == Low AND Tm_3P == Low AND Tm_FG% == High THEN Result == BlowoutW\n",
      "IF Tm_FG == Average AND Opp_FG == Low AND Opp_FTA == Low AND Tm_3P == Low AND Tm_FG% == Low THEN Result == ComfortableW\n",
      "IF Tm_FG == High AND Opp_FG == Average AND Opp_FG% == Average THEN Result == ComfortableW\n",
      "IF Tm_FG == High AND Opp_FG == Average AND Opp_FG% == High THEN Result == CloseW\n",
      "IF Tm_FG == High AND Opp_FG == Average AND Opp_FG% == Low AND Tm_3P == Average AND Opp_FT == Average THEN Result == ComfortableW\n",
      "IF Tm_FG == High AND Opp_FG == Average AND Opp_FG% == Low AND Tm_3P == Average AND Opp_FT == High THEN Result == BlowoutW\n",
      "IF Tm_FG == High AND Opp_FG == Average AND Opp_FG% == Low AND Tm_3P == Average AND Opp_FT == Low THEN Result == BlowoutW\n",
      "IF Tm_FG == High AND Opp_FG == Average AND Opp_FG% == Low AND Tm_3P == High THEN Result == BlowoutW\n",
      "IF Tm_FG == High AND Opp_FG == Average AND Opp_FG% == Low AND Tm_3P == Low THEN Result == BlowoutW\n",
      "IF Tm_FG == High AND Opp_FG == High THEN Result == ComfortableW\n",
      "IF Tm_FG == High AND Opp_FG == Low AND Opp_FTA == Average THEN Result == BlowoutW\n",
      "IF Tm_FG == High AND Opp_FG == Low AND Opp_FTA == High AND Loc == A THEN Result == ComfortableW\n",
      "IF Tm_FG == High AND Opp_FG == Low AND Opp_FTA == High AND Loc == H THEN Result == BlowoutW\n",
      "IF Tm_FG == High AND Opp_FG == Low AND Opp_FTA == High AND Loc == N THEN Result == BlowoutW\n",
      "IF Tm_FG == High AND Opp_FG == Low AND Opp_FTA == Low THEN Result == BlowoutW\n",
      "IF Tm_FG == Low THEN Result == CloseW\n"
     ]
    }
   ],
   "source": [
    "tree_accuracy = tree_accuracy_sum / 10\n",
    "tree_error = 1 - tree_accuracy\n",
    "tree_precision = tree_precision_sum / 10\n",
    "tree_recall = tree_recall_sum / 10\n",
    "tree_f1 = tree_f1_sum / 10\n",
    "print(\"Decision Tree Metrics (Averages for 10-Fold Cross Validation)\")\n",
    "print(\"-----------------------------------------------------------\")\n",
    "print(\"accuracy = \" + str(tree_accuracy) + \", error rate = \" + str(tree_error))\n",
    "print(\"precision = \" + str(tree_precision) + \", recall = \" + str(tree_recall))\n",
    "print(\"f1 score: \" + str(tree_f1))\n",
    "print(\"confusion matrix:\")\n",
    "print(tabulate.tabulate(tree_matrix_sum))\n",
    "tree_clf.print_decision_rules(X_header, class_label)"
   ]
  }
 ],
 "metadata": {
  "kernelspec": {
   "display_name": "Python 3.9.12 ('base')",
   "language": "python",
   "name": "python3"
  },
  "language_info": {
   "codemirror_mode": {
    "name": "ipython",
    "version": 3
   },
   "file_extension": ".py",
   "mimetype": "text/x-python",
   "name": "python",
   "nbconvert_exporter": "python",
   "pygments_lexer": "ipython3",
   "version": "3.9.12"
  },
  "orig_nbformat": 4,
  "vscode": {
   "interpreter": {
    "hash": "d4d1e4263499bec80672ea0156c357c1ee493ec2b1c70f0acce89fc37c4a6abe"
   }
  }
 },
 "nbformat": 4,
 "nbformat_minor": 2
}
