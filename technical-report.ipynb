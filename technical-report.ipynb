{
 "cells": [
  {
   "cell_type": "markdown",
   "metadata": {},
   "source": [
    "# Solving Gonzaga Basketball\n",
    "By Erick May  \n",
    "\n",
    "CPSC 322, Fall 2022"
   ]
  },
  {
   "cell_type": "markdown",
   "metadata": {},
   "source": [
    "## Introduction\n",
    "The dataset I am using comes from sports-reference.com, and contains basic information and statistics for each Gonzaga men's basketball game from 2010-11 to the present. I will be using the data about each game to predict what the result of the game would be.\n",
    "### FINDINGS HERE"
   ]
  },
  {
   "cell_type": "code",
   "execution_count": 16,
   "metadata": {},
   "outputs": [],
   "source": [
    "import importlib\n",
    "import tabulate\n",
    "import matplotlib.pyplot as plt\n",
    "\n",
    "import mysklearn.myutils\n",
    "importlib.reload(mysklearn.myutils)\n",
    "import mysklearn.myutils as myutils\n",
    "\n",
    "import mysklearn.myclassifiers\n",
    "importlib.reload(mysklearn.myclassifiers)\n",
    "from mysklearn.myclassifiers import MyKNeighborsClassifier, MyDummyClassifier, MyNaiveBayesClassifier, MyDecisionTreeClassifier\n",
    "\n",
    "import mysklearn.myevaluation\n",
    "importlib.reload(mysklearn.myevaluation)\n",
    "import mysklearn.myevaluation as myevaluation\n"
   ]
  },
  {
   "cell_type": "markdown",
   "metadata": {},
   "source": [
    "## Data Analysis\n",
    "As the website only has individual game data going back to the 2010-11 season, the dataset only contains 430 games. Some attributes that are part of the dataset, but will not be part of our analysis, include an ID, date, school name (always \"Gonzaga\"), opponent name, and total minutes played by Gonzaga, which will almost always be 200 since 5 players are on the floor at a time for the 40 minutes of the game (or more if it goes into overtime). The attributes of interest for us will be the location of the game (Home, Neutral, or Away) and shooting statistics for each team, which includes the raw numbers (Makes and Attempts) along with percentages for field goals, 2-pointers, 3-pointers, and freethrows. The class to predict will be the result of the game, with 4 labels: L, CloseW, ComfortableW, and BlowoutW. Gonzaga wins so often that wins had to be split up into close wins (10 points or less), comfortable wins (11-19 points) and blowouts (20+ points) to give the class labels a somewhat more even distribution (although far from perfect, as shown below)."
   ]
  },
  {
   "cell_type": "code",
   "execution_count": 17,
   "metadata": {},
   "outputs": [
    {
     "data": {
      "image/png": "[encoded data removed]",
      "text/plain": [
       "<Figure size 432x288 with 1 Axes>"
      ]
     },
     "metadata": {},
     "output_type": "display_data"
    }
   ],
   "source": [
    "zag_table = myutils.read_table(\"input_data/gonzaga_games_2010-present.csv\")\n",
    "zag_header = zag_table.pop(0)\n",
    "X = []\n",
    "y = []\n",
    "for row in zag_table:\n",
    "    row[5] = myutils.determine_class_label(row[19], row[32])\n",
    "    row[3] = myutils.determine_loc(row[3])\n",
    "    X.append([row[3], row[7], row[8], row[9], row[10], row[11], row[12], row[13], row[14], row[15], row[16], row[17], row[18], row[20], row[21], row[22], row[23], row[24], row[25], row[26], row[27], row[28], row[29], row[30], row[31]])\n",
    "    y.append(row[5])\n",
    "\n",
    "classes, class_counts = myutils.find_col_frequencies(y)\n",
    "plt.figure()\n",
    "plt.title(\"Class Label Distribution\")\n",
    "plt.pie(class_counts, labels=classes, autopct=\"%1.1f%%\")\n",
    "plt.show()"
   ]
  },
  {
   "cell_type": "markdown",
   "metadata": {},
   "source": [
    "Figure 1 shows the distribution of the class labels I concocted.\n",
    "### MORE SUMMARY STATS AND GRAPHS HERE"
   ]
  },
  {
   "cell_type": "markdown",
   "metadata": {},
   "source": [
    "## Classification Results\n",
    "### CLASSIFICATION DESCRIPTION HERE"
   ]
  },
  {
   "cell_type": "code",
   "execution_count": 18,
   "metadata": {},
   "outputs": [],
   "source": [
    "train_test_strat_indices = myevaluation.stratified_kfold_split(X, y, 10, 0)"
   ]
  },
  {
   "cell_type": "code",
   "execution_count": 19,
   "metadata": {},
   "outputs": [
    {
     "ename": "KeyError",
     "evalue": "'att10=0.542'",
     "output_type": "error",
     "traceback": [
      "\u001b[0;31m---------------------------------------------------------------------------\u001b[0m",
      "\u001b[0;31mKeyError\u001b[0m                                  Traceback (most recent call last)",
      "\u001b[1;32m/root/FinalProjectFun/technical-report.ipynb Cell 9\u001b[0m in \u001b[0;36m<cell line: 10>\u001b[0;34m()\u001b[0m\n\u001b[1;32m     <a href='vscode-notebook-cell://attached-container%2B7b22636f6e7461696e65724e616d65223a222f616e61636f6e6461335f63707363333232227d/root/FinalProjectFun/technical-report.ipynb#X16sdnNjb2RlLXJlbW90ZQ%3D%3D?line=15'>16</a>\u001b[0m nb_clf \u001b[39m=\u001b[39m MyNaiveBayesClassifier()\n\u001b[1;32m     <a href='vscode-notebook-cell://attached-container%2B7b22636f6e7461696e65724e616d65223a222f616e61636f6e6461335f63707363333232227d/root/FinalProjectFun/technical-report.ipynb#X16sdnNjb2RlLXJlbW90ZQ%3D%3D?line=16'>17</a>\u001b[0m nb_clf\u001b[39m.\u001b[39mfit(X_train, y_train)\n\u001b[0;32m---> <a href='vscode-notebook-cell://attached-container%2B7b22636f6e7461696e65724e616d65223a222f616e61636f6e6461335f63707363333232227d/root/FinalProjectFun/technical-report.ipynb#X16sdnNjb2RlLXJlbW90ZQ%3D%3D?line=17'>18</a>\u001b[0m y_pred \u001b[39m=\u001b[39m nb_clf\u001b[39m.\u001b[39;49mpredict(X_test)\n\u001b[1;32m     <a href='vscode-notebook-cell://attached-container%2B7b22636f6e7461696e65724e616d65223a222f616e61636f6e6461335f63707363333232227d/root/FinalProjectFun/technical-report.ipynb#X16sdnNjb2RlLXJlbW90ZQ%3D%3D?line=18'>19</a>\u001b[0m nb_accuracy_sum \u001b[39m+\u001b[39m\u001b[39m=\u001b[39m myevaluation\u001b[39m.\u001b[39maccuracy_score(y_test, y_pred)\n\u001b[1;32m     <a href='vscode-notebook-cell://attached-container%2B7b22636f6e7461696e65724e616d65223a222f616e61636f6e6461335f63707363333232227d/root/FinalProjectFun/technical-report.ipynb#X16sdnNjb2RlLXJlbW90ZQ%3D%3D?line=19'>20</a>\u001b[0m nb_precision_sum \u001b[39m+\u001b[39m\u001b[39m=\u001b[39m myevaluation\u001b[39m.\u001b[39mbinary_precision_score(y_test, y_pred, [\u001b[39m\"\u001b[39m\u001b[39mH\u001b[39m\u001b[39m\"\u001b[39m, \u001b[39m\"\u001b[39m\u001b[39mA\u001b[39m\u001b[39m\"\u001b[39m], \u001b[39m\"\u001b[39m\u001b[39mH\u001b[39m\u001b[39m\"\u001b[39m)\n",
      "File \u001b[0;32m~/FinalProjectFun/mysklearn/myclassifiers.py:194\u001b[0m, in \u001b[0;36mMyNaiveBayesClassifier.predict\u001b[0;34m(self, X_test)\u001b[0m\n\u001b[1;32m    192\u001b[0m \u001b[39mfor\u001b[39;00m j \u001b[39min\u001b[39;00m \u001b[39mrange\u001b[39m(\u001b[39m0\u001b[39m, \u001b[39mlen\u001b[39m(labels)):\n\u001b[1;32m    193\u001b[0m     \u001b[39mfor\u001b[39;00m k \u001b[39min\u001b[39;00m \u001b[39mrange\u001b[39m(\u001b[39m0\u001b[39m, \u001b[39mlen\u001b[39m(X_test[i])):\n\u001b[0;32m--> 194\u001b[0m         pred_posteriors[j] \u001b[39m*\u001b[39m\u001b[39m=\u001b[39m \u001b[39mself\u001b[39;49m\u001b[39m.\u001b[39;49mposteriors[\u001b[39m\"\u001b[39;49m\u001b[39matt\u001b[39;49m\u001b[39m\"\u001b[39;49m \u001b[39m+\u001b[39;49m \u001b[39mstr\u001b[39;49m(k\u001b[39m+\u001b[39;49m\u001b[39m1\u001b[39;49m) \u001b[39m+\u001b[39;49m \u001b[39m\"\u001b[39;49m\u001b[39m=\u001b[39;49m\u001b[39m\"\u001b[39;49m \u001b[39m+\u001b[39;49m \u001b[39mstr\u001b[39;49m(X_test[i][k])][labels[j]]\n\u001b[1;32m    195\u001b[0m     pred_posteriors[j] \u001b[39m*\u001b[39m\u001b[39m=\u001b[39m \u001b[39mself\u001b[39m\u001b[39m.\u001b[39mpriors[labels[j]]\n\u001b[1;32m    196\u001b[0m y_predicted\u001b[39m.\u001b[39mappend(labels[pred_posteriors\u001b[39m.\u001b[39mindex(\u001b[39mmax\u001b[39m(pred_posteriors))])\n",
      "\u001b[0;31mKeyError\u001b[0m: 'att10=0.542'"
     ]
    }
   ],
   "source": [
    "nb_accuracy_sum, nb_precision_sum, nb_recall_sum, nb_f1_sum = 0, 0, 0, 0\n",
    "nb_matrix_sum = [[0, 0], [0, 0]]\n",
    "knn_accuracy_sum, knn_precision_sum, knn_recall_sum, knn_f1_sum = 0, 0, 0, 0\n",
    "knn_matrix_sum = [[0, 0], [0, 0]]\n",
    "dumb_accuracy_sum, dumb_precision_sum, dumb_recall_sum, dumb_f1_sum = 0, 0, 0, 0\n",
    "dumb_matrix_sum = [[0, 0], [0, 0]]\n",
    "tree_accuracy_sum, tree_precision_sum, tree_recall_sum, tree_f1_sum = 0, 0, 0, 0\n",
    "tree_matrix_sum = [[0, 0], [0, 0]]\n",
    "\n",
    "for i in range (0, 10):\n",
    "    X_train = [X[index] for index in train_test_strat_indices[i][0]]\n",
    "    y_train = [y[index] for index in train_test_strat_indices[i][0]]\n",
    "    X_test = [X[index] for index in train_test_strat_indices[i][1]]\n",
    "    y_test = [y[index] for index in train_test_strat_indices[i][1]]\n",
    "\n",
    "    nb_clf = MyNaiveBayesClassifier()\n",
    "    nb_clf.fit(X_train, y_train)\n",
    "    y_pred = nb_clf.predict(X_test)\n",
    "    nb_accuracy_sum += myevaluation.accuracy_score(y_test, y_pred)\n",
    "    nb_precision_sum += myevaluation.binary_precision_score(y_test, y_pred, [\"H\", \"A\"], \"H\")\n",
    "    nb_recall_sum += myevaluation.binary_recall_score(y_test, y_pred, [\"H\", \"A\"], \"H\")\n",
    "    nb_f1_sum += myevaluation.binary_f1_score(y_test, y_pred, [\"H\", \"A\"], \"H\")\n",
    "    confusing_matrix = myevaluation.confusion_matrix(y_test, y_pred, [\"H\", \"A\"])\n",
    "    for i in range(0, len(confusing_matrix)):\n",
    "        for j in range(0, len(confusing_matrix[i])):\n",
    "            nb_matrix_sum[i][j] += confusing_matrix[i][j]\n",
    "\n",
    "    knn_clf = MyKNeighborsClassifier()\n",
    "    knn_clf.fit(X_train, y_train)\n",
    "    y_pred = knn_clf.predict(X_test)\n",
    "    knn_accuracy_sum += myevaluation.accuracy_score(y_test, y_pred)\n",
    "    knn_precision_sum += myevaluation.binary_precision_score(y_test, y_pred, [\"H\", \"A\"], \"H\")\n",
    "    knn_recall_sum += myevaluation.binary_recall_score(y_test, y_pred, [\"H\", \"A\"], \"H\")\n",
    "    knn_f1_sum += myevaluation.binary_f1_score(y_test, y_pred, [\"H\", \"A\"], \"H\")\n",
    "    confusing_matrix = myevaluation.confusion_matrix(y_test, y_pred, [\"H\", \"A\"])\n",
    "    for i in range(0, len(confusing_matrix)):\n",
    "        for j in range(0, len(confusing_matrix[i])):\n",
    "            knn_matrix_sum[i][j] += confusing_matrix[i][j]\n",
    "\n",
    "    dumb_clf = MyDummyClassifier()\n",
    "    dumb_clf.fit(X_train, y_train)\n",
    "    y_pred = dumb_clf.predict(X_test)\n",
    "    dumb_accuracy_sum += myevaluation.accuracy_score(y_test, y_pred)\n",
    "    dumb_precision_sum += myevaluation.binary_precision_score(y_test, y_pred, [\"H\", \"A\"], \"H\")\n",
    "    dumb_recall_sum += myevaluation.binary_recall_score(y_test, y_pred, [\"H\", \"A\"], \"H\")\n",
    "    dumb_f1_sum += myevaluation.binary_f1_score(y_test, y_pred, [\"H\", \"A\"], \"H\")\n",
    "    confusing_matrix = myevaluation.confusion_matrix(y_test, y_pred, [\"H\", \"A\"])\n",
    "    for i in range(0, len(confusing_matrix)):\n",
    "        for j in range(0, len(confusing_matrix[i])):\n",
    "            dumb_matrix_sum[i][j] += confusing_matrix[i][j]\n",
    "\n",
    "    tree_clf = MyDecisionTreeClassifier()\n",
    "    tree_clf.fit(X_train, y_train)\n",
    "    y_pred = tree_clf.predict(X_test)\n",
    "    tree_accuracy_sum += myevaluation.accuracy_score(y_test, y_pred)\n",
    "    tree_precision_sum += myevaluation.binary_precision_score(y_test, y_pred, [\"H\", \"A\"], \"H\")\n",
    "    tree_recall_sum += myevaluation.binary_recall_score(y_test, y_pred, [\"H\", \"A\"], \"H\")\n",
    "    tree_f1_sum += myevaluation.binary_f1_score(y_test, y_pred, [\"H\", \"A\"], \"H\")\n",
    "    confusing_matrix = myevaluation.confusion_matrix(y_test, y_pred, [\"H\", \"A\"])\n",
    "    for i in range(0, len(confusing_matrix)):\n",
    "        for j in range(0, len(confusing_matrix[i])):\n",
    "            tree_matrix_sum[i][j] += confusing_matrix[i][j]\n"
   ]
  },
  {
   "cell_type": "code",
   "execution_count": null,
   "metadata": {},
   "outputs": [],
   "source": [
    "nb_accuracy = nb_accuracy_sum / 10\n",
    "nb_error = 1 - nb_accuracy\n",
    "nb_precision = nb_precision_sum / 10\n",
    "nb_recall = nb_recall_sum / 10\n",
    "nb_f1 = nb_f1_sum / 10\n",
    "print(\"Naive-Bayes Metrics (Averages for 10-Fold Cross Validation)\")\n",
    "print(\"-----------------------------------------------------------\")\n",
    "print(\"accuracy = \" + str(nb_accuracy) + \", error rate = \" + str(nb_error))\n",
    "print(\"precision = \" + str(nb_precision) + \", recall = \" + str(nb_recall))\n",
    "print(\"f1 score: \" + str(nb_f1))\n",
    "print(\"confusion matrix:\")\n",
    "print(tabulate.tabulate(nb_matrix_sum))"
   ]
  },
  {
   "cell_type": "code",
   "execution_count": null,
   "metadata": {},
   "outputs": [],
   "source": [
    "knn_accuracy = knn_accuracy_sum / 10\n",
    "knn_error = 1 - knn_accuracy\n",
    "knn_precision = knn_precision_sum / 10\n",
    "knn_recall = knn_recall_sum / 10\n",
    "knn_f1 = knn_f1_sum / 10\n",
    "print(\"kNN Metrics (Averages for 10-Fold Cross Validation)\")\n",
    "print(\"---------------------------------------------------\")\n",
    "print(\"accuracy = \" + str(knn_accuracy) + \", error rate = \" + str(knn_error))\n",
    "print(\"precision = \" + str(knn_precision) + \", recall = \" + str(knn_recall))\n",
    "print(\"f1 score: \" + str(knn_f1))\n",
    "print(\"confusion matrix:\")\n",
    "print(tabulate.tabulate(knn_matrix_sum))"
   ]
  },
  {
   "cell_type": "code",
   "execution_count": null,
   "metadata": {},
   "outputs": [],
   "source": [
    "dumb_accuracy = dumb_accuracy_sum / 10\n",
    "dumb_error = 1 - dumb_accuracy\n",
    "dumb_precision = dumb_precision_sum / 10\n",
    "dumb_recall = dumb_recall_sum / 10\n",
    "dumb_f1 = dumb_f1_sum / 10\n",
    "print(\"Dummy Metrics (Averages for 10-Fold Cross Validation)\")\n",
    "print(\"-----------------------------------------------------------\")\n",
    "print(\"accuracy = \" + str(dumb_accuracy) + \", error rate = \" + str(dumb_error))\n",
    "print(\"precision = \" + str(dumb_precision) + \", recall = \" + str(dumb_recall))\n",
    "print(\"f1 score: \" + str(dumb_f1))\n",
    "print(\"confusion matrix:\")\n",
    "print(tabulate.tabulate(dumb_matrix_sum))"
   ]
  },
  {
   "cell_type": "code",
   "execution_count": null,
   "metadata": {},
   "outputs": [],
   "source": [
    "tree_accuracy = tree_accuracy_sum / 10\n",
    "tree_error = 1 - tree_accuracy\n",
    "tree_precision = tree_precision_sum / 10\n",
    "tree_recall = tree_recall_sum / 10\n",
    "tree_f1 = tree_f1_sum / 10\n",
    "print(\"Decision Tree Metrics (Averages for 10-Fold Cross Validation)\")\n",
    "print(\"-----------------------------------------------------------\")\n",
    "print(\"accuracy = \" + str(tree_accuracy) + \", error rate = \" + str(tree_error))\n",
    "print(\"precision = \" + str(tree_precision) + \", recall = \" + str(tree_recall))\n",
    "print(\"f1 score: \" + str(tree_f1))\n",
    "print(\"confusion matrix:\")\n",
    "print(tabulate.tabulate(tree_matrix_sum))"
   ]
  }
 ],
 "metadata": {
  "kernelspec": {
   "display_name": "Python 3.9.12 ('base')",
   "language": "python",
   "name": "python3"
  },
  "language_info": {
   "codemirror_mode": {
    "name": "ipython",
    "version": 3
   },
   "file_extension": ".py",
   "mimetype": "text/x-python",
   "name": "python",
   "nbconvert_exporter": "python",
   "pygments_lexer": "ipython3",
   "version": "3.9.12"
  },
  "orig_nbformat": 4,
  "vscode": {
   "interpreter": {
    "hash": "d4d1e4263499bec80672ea0156c357c1ee493ec2b1c70f0acce89fc37c4a6abe"
   }
  }
 },
 "nbformat": 4,
 "nbformat_minor": 2
}
